{
 "cells": [
  {
   "cell_type": "code",
   "execution_count": 43,
   "id": "36f3752e-cd59-4542-9865-ebf86ea614fd",
   "metadata": {},
   "outputs": [
    {
     "name": "stderr",
     "output_type": "stream",
     "text": [
      "/Users/alex/opt/anaconda3/lib/python3.8/site-packages/numpy/lib/arraysetops.py:583: FutureWarning: elementwise comparison failed; returning scalar instead, but in the future will perform elementwise comparison\n",
      "  mask |= (ar1 == a)\n"
     ]
    },
    {
     "ename": "ValueError",
     "evalue": "cannot convert float NaN to integer",
     "output_type": "error",
     "traceback": [
      "\u001b[0;31m---------------------------------------------------------------------------\u001b[0m",
      "\u001b[0;31mValueError\u001b[0m                                Traceback (most recent call last)",
      "\u001b[0;32m<ipython-input-43-db8a0eac4b0e>\u001b[0m in \u001b[0;36m<module>\u001b[0;34m\u001b[0m\n\u001b[1;32m     11\u001b[0m \u001b[0mdf\u001b[0m\u001b[0;34m[\u001b[0m\u001b[0;34m'hilow_true'\u001b[0m\u001b[0;34m]\u001b[0m \u001b[0;34m=\u001b[0m \u001b[0mdf\u001b[0m\u001b[0;34m[\u001b[0m\u001b[0;34m'hilow'\u001b[0m\u001b[0;34m]\u001b[0m\u001b[0;34m/\u001b[0m\u001b[0mdf\u001b[0m\u001b[0;34m[\u001b[0m\u001b[0;34m'decks_remaining'\u001b[0m\u001b[0;34m]\u001b[0m\u001b[0;34m\u001b[0m\u001b[0;34m\u001b[0m\u001b[0m\n\u001b[1;32m     12\u001b[0m \u001b[0mdf\u001b[0m\u001b[0;34m[\u001b[0m\u001b[0;34m'hilow_true_prior_int'\u001b[0m\u001b[0;34m]\u001b[0m \u001b[0;34m=\u001b[0m \u001b[0mdf\u001b[0m\u001b[0;34m[\u001b[0m\u001b[0;34m'hilow_true_prior'\u001b[0m\u001b[0;34m]\u001b[0m\u001b[0;34m.\u001b[0m\u001b[0mround\u001b[0m\u001b[0;34m(\u001b[0m\u001b[0;36m0\u001b[0m\u001b[0;34m)\u001b[0m\u001b[0;34m.\u001b[0m\u001b[0mastype\u001b[0m\u001b[0;34m(\u001b[0m\u001b[0mint\u001b[0m\u001b[0;34m)\u001b[0m\u001b[0;34m\u001b[0m\u001b[0;34m\u001b[0m\u001b[0m\n\u001b[0;32m---> 13\u001b[0;31m \u001b[0mdf\u001b[0m\u001b[0;34m[\u001b[0m\u001b[0;34m'dealer_bust'\u001b[0m\u001b[0;34m]\u001b[0m \u001b[0;34m=\u001b[0m \u001b[0mdf\u001b[0m\u001b[0;34m[\u001b[0m\u001b[0;34m'dealer_bust'\u001b[0m\u001b[0;34m]\u001b[0m\u001b[0;34m.\u001b[0m\u001b[0mastype\u001b[0m\u001b[0;34m(\u001b[0m\u001b[0mint\u001b[0m\u001b[0;34m)\u001b[0m\u001b[0;34m\u001b[0m\u001b[0;34m\u001b[0m\u001b[0m\n\u001b[0m",
      "\u001b[0;32m~/opt/anaconda3/lib/python3.8/site-packages/pandas/core/generic.py\u001b[0m in \u001b[0;36mastype\u001b[0;34m(self, dtype, copy, errors)\u001b[0m\n\u001b[1;32m   5875\u001b[0m         \u001b[0;32melse\u001b[0m\u001b[0;34m:\u001b[0m\u001b[0;34m\u001b[0m\u001b[0;34m\u001b[0m\u001b[0m\n\u001b[1;32m   5876\u001b[0m             \u001b[0;31m# else, only a single dtype is given\u001b[0m\u001b[0;34m\u001b[0m\u001b[0;34m\u001b[0m\u001b[0;34m\u001b[0m\u001b[0m\n\u001b[0;32m-> 5877\u001b[0;31m             \u001b[0mnew_data\u001b[0m \u001b[0;34m=\u001b[0m \u001b[0mself\u001b[0m\u001b[0;34m.\u001b[0m\u001b[0m_mgr\u001b[0m\u001b[0;34m.\u001b[0m\u001b[0mastype\u001b[0m\u001b[0;34m(\u001b[0m\u001b[0mdtype\u001b[0m\u001b[0;34m=\u001b[0m\u001b[0mdtype\u001b[0m\u001b[0;34m,\u001b[0m \u001b[0mcopy\u001b[0m\u001b[0;34m=\u001b[0m\u001b[0mcopy\u001b[0m\u001b[0;34m,\u001b[0m \u001b[0merrors\u001b[0m\u001b[0;34m=\u001b[0m\u001b[0merrors\u001b[0m\u001b[0;34m)\u001b[0m\u001b[0;34m\u001b[0m\u001b[0;34m\u001b[0m\u001b[0m\n\u001b[0m\u001b[1;32m   5878\u001b[0m             \u001b[0;32mreturn\u001b[0m \u001b[0mself\u001b[0m\u001b[0;34m.\u001b[0m\u001b[0m_constructor\u001b[0m\u001b[0;34m(\u001b[0m\u001b[0mnew_data\u001b[0m\u001b[0;34m)\u001b[0m\u001b[0;34m.\u001b[0m\u001b[0m__finalize__\u001b[0m\u001b[0;34m(\u001b[0m\u001b[0mself\u001b[0m\u001b[0;34m,\u001b[0m \u001b[0mmethod\u001b[0m\u001b[0;34m=\u001b[0m\u001b[0;34m\"astype\"\u001b[0m\u001b[0;34m)\u001b[0m\u001b[0;34m\u001b[0m\u001b[0;34m\u001b[0m\u001b[0m\n\u001b[1;32m   5879\u001b[0m \u001b[0;34m\u001b[0m\u001b[0m\n",
      "\u001b[0;32m~/opt/anaconda3/lib/python3.8/site-packages/pandas/core/internals/managers.py\u001b[0m in \u001b[0;36mastype\u001b[0;34m(self, dtype, copy, errors)\u001b[0m\n\u001b[1;32m    629\u001b[0m         \u001b[0mself\u001b[0m\u001b[0;34m,\u001b[0m \u001b[0mdtype\u001b[0m\u001b[0;34m,\u001b[0m \u001b[0mcopy\u001b[0m\u001b[0;34m:\u001b[0m \u001b[0mbool\u001b[0m \u001b[0;34m=\u001b[0m \u001b[0;32mFalse\u001b[0m\u001b[0;34m,\u001b[0m \u001b[0merrors\u001b[0m\u001b[0;34m:\u001b[0m \u001b[0mstr\u001b[0m \u001b[0;34m=\u001b[0m \u001b[0;34m\"raise\"\u001b[0m\u001b[0;34m\u001b[0m\u001b[0;34m\u001b[0m\u001b[0m\n\u001b[1;32m    630\u001b[0m     ) -> \"BlockManager\":\n\u001b[0;32m--> 631\u001b[0;31m         \u001b[0;32mreturn\u001b[0m \u001b[0mself\u001b[0m\u001b[0;34m.\u001b[0m\u001b[0mapply\u001b[0m\u001b[0;34m(\u001b[0m\u001b[0;34m\"astype\"\u001b[0m\u001b[0;34m,\u001b[0m \u001b[0mdtype\u001b[0m\u001b[0;34m=\u001b[0m\u001b[0mdtype\u001b[0m\u001b[0;34m,\u001b[0m \u001b[0mcopy\u001b[0m\u001b[0;34m=\u001b[0m\u001b[0mcopy\u001b[0m\u001b[0;34m,\u001b[0m \u001b[0merrors\u001b[0m\u001b[0;34m=\u001b[0m\u001b[0merrors\u001b[0m\u001b[0;34m)\u001b[0m\u001b[0;34m\u001b[0m\u001b[0;34m\u001b[0m\u001b[0m\n\u001b[0m\u001b[1;32m    632\u001b[0m \u001b[0;34m\u001b[0m\u001b[0m\n\u001b[1;32m    633\u001b[0m     def convert(\n",
      "\u001b[0;32m~/opt/anaconda3/lib/python3.8/site-packages/pandas/core/internals/managers.py\u001b[0m in \u001b[0;36mapply\u001b[0;34m(self, f, align_keys, ignore_failures, **kwargs)\u001b[0m\n\u001b[1;32m    425\u001b[0m                     \u001b[0mapplied\u001b[0m \u001b[0;34m=\u001b[0m \u001b[0mb\u001b[0m\u001b[0;34m.\u001b[0m\u001b[0mapply\u001b[0m\u001b[0;34m(\u001b[0m\u001b[0mf\u001b[0m\u001b[0;34m,\u001b[0m \u001b[0;34m**\u001b[0m\u001b[0mkwargs\u001b[0m\u001b[0;34m)\u001b[0m\u001b[0;34m\u001b[0m\u001b[0;34m\u001b[0m\u001b[0m\n\u001b[1;32m    426\u001b[0m                 \u001b[0;32melse\u001b[0m\u001b[0;34m:\u001b[0m\u001b[0;34m\u001b[0m\u001b[0;34m\u001b[0m\u001b[0m\n\u001b[0;32m--> 427\u001b[0;31m                     \u001b[0mapplied\u001b[0m \u001b[0;34m=\u001b[0m \u001b[0mgetattr\u001b[0m\u001b[0;34m(\u001b[0m\u001b[0mb\u001b[0m\u001b[0;34m,\u001b[0m \u001b[0mf\u001b[0m\u001b[0;34m)\u001b[0m\u001b[0;34m(\u001b[0m\u001b[0;34m**\u001b[0m\u001b[0mkwargs\u001b[0m\u001b[0;34m)\u001b[0m\u001b[0;34m\u001b[0m\u001b[0;34m\u001b[0m\u001b[0m\n\u001b[0m\u001b[1;32m    428\u001b[0m             \u001b[0;32mexcept\u001b[0m \u001b[0;34m(\u001b[0m\u001b[0mTypeError\u001b[0m\u001b[0;34m,\u001b[0m \u001b[0mNotImplementedError\u001b[0m\u001b[0;34m)\u001b[0m\u001b[0;34m:\u001b[0m\u001b[0;34m\u001b[0m\u001b[0;34m\u001b[0m\u001b[0m\n\u001b[1;32m    429\u001b[0m                 \u001b[0;32mif\u001b[0m \u001b[0;32mnot\u001b[0m \u001b[0mignore_failures\u001b[0m\u001b[0;34m:\u001b[0m\u001b[0;34m\u001b[0m\u001b[0;34m\u001b[0m\u001b[0m\n",
      "\u001b[0;32m~/opt/anaconda3/lib/python3.8/site-packages/pandas/core/internals/blocks.py\u001b[0m in \u001b[0;36mastype\u001b[0;34m(self, dtype, copy, errors)\u001b[0m\n\u001b[1;32m    671\u001b[0m             \u001b[0mvals1d\u001b[0m \u001b[0;34m=\u001b[0m \u001b[0mvalues\u001b[0m\u001b[0;34m.\u001b[0m\u001b[0mravel\u001b[0m\u001b[0;34m(\u001b[0m\u001b[0;34m)\u001b[0m\u001b[0;34m\u001b[0m\u001b[0;34m\u001b[0m\u001b[0m\n\u001b[1;32m    672\u001b[0m             \u001b[0;32mtry\u001b[0m\u001b[0;34m:\u001b[0m\u001b[0;34m\u001b[0m\u001b[0;34m\u001b[0m\u001b[0m\n\u001b[0;32m--> 673\u001b[0;31m                 \u001b[0mvalues\u001b[0m \u001b[0;34m=\u001b[0m \u001b[0mastype_nansafe\u001b[0m\u001b[0;34m(\u001b[0m\u001b[0mvals1d\u001b[0m\u001b[0;34m,\u001b[0m \u001b[0mdtype\u001b[0m\u001b[0;34m,\u001b[0m \u001b[0mcopy\u001b[0m\u001b[0;34m=\u001b[0m\u001b[0;32mTrue\u001b[0m\u001b[0;34m)\u001b[0m\u001b[0;34m\u001b[0m\u001b[0;34m\u001b[0m\u001b[0m\n\u001b[0m\u001b[1;32m    674\u001b[0m             \u001b[0;32mexcept\u001b[0m \u001b[0;34m(\u001b[0m\u001b[0mValueError\u001b[0m\u001b[0;34m,\u001b[0m \u001b[0mTypeError\u001b[0m\u001b[0;34m)\u001b[0m\u001b[0;34m:\u001b[0m\u001b[0;34m\u001b[0m\u001b[0;34m\u001b[0m\u001b[0m\n\u001b[1;32m    675\u001b[0m                 \u001b[0;31m# e.g. astype_nansafe can fail on object-dtype of strings\u001b[0m\u001b[0;34m\u001b[0m\u001b[0;34m\u001b[0m\u001b[0;34m\u001b[0m\u001b[0m\n",
      "\u001b[0;32m~/opt/anaconda3/lib/python3.8/site-packages/pandas/core/dtypes/cast.py\u001b[0m in \u001b[0;36mastype_nansafe\u001b[0;34m(arr, dtype, copy, skipna)\u001b[0m\n\u001b[1;32m   1072\u001b[0m         \u001b[0;31m# work around NumPy brokenness, #1987\u001b[0m\u001b[0;34m\u001b[0m\u001b[0;34m\u001b[0m\u001b[0;34m\u001b[0m\u001b[0m\n\u001b[1;32m   1073\u001b[0m         \u001b[0;32mif\u001b[0m \u001b[0mnp\u001b[0m\u001b[0;34m.\u001b[0m\u001b[0missubdtype\u001b[0m\u001b[0;34m(\u001b[0m\u001b[0mdtype\u001b[0m\u001b[0;34m.\u001b[0m\u001b[0mtype\u001b[0m\u001b[0;34m,\u001b[0m \u001b[0mnp\u001b[0m\u001b[0;34m.\u001b[0m\u001b[0minteger\u001b[0m\u001b[0;34m)\u001b[0m\u001b[0;34m:\u001b[0m\u001b[0;34m\u001b[0m\u001b[0;34m\u001b[0m\u001b[0m\n\u001b[0;32m-> 1074\u001b[0;31m             \u001b[0;32mreturn\u001b[0m \u001b[0mlib\u001b[0m\u001b[0;34m.\u001b[0m\u001b[0mastype_intsafe\u001b[0m\u001b[0;34m(\u001b[0m\u001b[0marr\u001b[0m\u001b[0;34m.\u001b[0m\u001b[0mravel\u001b[0m\u001b[0;34m(\u001b[0m\u001b[0;34m)\u001b[0m\u001b[0;34m,\u001b[0m \u001b[0mdtype\u001b[0m\u001b[0;34m)\u001b[0m\u001b[0;34m.\u001b[0m\u001b[0mreshape\u001b[0m\u001b[0;34m(\u001b[0m\u001b[0marr\u001b[0m\u001b[0;34m.\u001b[0m\u001b[0mshape\u001b[0m\u001b[0;34m)\u001b[0m\u001b[0;34m\u001b[0m\u001b[0;34m\u001b[0m\u001b[0m\n\u001b[0m\u001b[1;32m   1075\u001b[0m \u001b[0;34m\u001b[0m\u001b[0m\n\u001b[1;32m   1076\u001b[0m         \u001b[0;31m# if we have a datetime/timedelta array of objects\u001b[0m\u001b[0;34m\u001b[0m\u001b[0;34m\u001b[0m\u001b[0;34m\u001b[0m\u001b[0m\n",
      "\u001b[0;32mpandas/_libs/lib.pyx\u001b[0m in \u001b[0;36mpandas._libs.lib.astype_intsafe\u001b[0;34m()\u001b[0m\n",
      "\u001b[0;31mValueError\u001b[0m: cannot convert float NaN to integer"
     ]
    }
   ],
   "source": [
    "import pandas as pd\n",
    "import numpy as np\n",
    "import time as time\n",
    "import matplotlib.pyplot as plt\n",
    "import statsmodels.api as sm\n",
    "\n",
    "df = []\n",
    "for i in range(1,2):\n",
    "    df.append(pd.read_csv(f'/Users/alex/Documents/Gambling/Blackjack/2deck_3to2_H17_surrender_doubleaftersplit_resplitaces.csv', index_col=0))\n",
    "df = pd.concat(df).reset_index(drop=True)\n",
    "df['hilow_true'] = df['hilow']/df['decks_remaining']\n",
    "df['hilow_true_prior_int'] = df['hilow_true_prior'].round(0).astype(int)\n",
    "df['dealer_bust'] = df['dealer_bust'].astype(int)\n"
   ]
  },
  {
   "cell_type": "code",
   "execution_count": 46,
   "id": "65d52b41-f652-499a-ae45-96ff3ba8b1bb",
   "metadata": {},
   "outputs": [
    {
     "data": {
      "text/html": [
       "<div>\n",
       "<style scoped>\n",
       "    .dataframe tbody tr th:only-of-type {\n",
       "        vertical-align: middle;\n",
       "    }\n",
       "\n",
       "    .dataframe tbody tr th {\n",
       "        vertical-align: top;\n",
       "    }\n",
       "\n",
       "    .dataframe thead th {\n",
       "        text-align: right;\n",
       "    }\n",
       "</style>\n",
       "<table border=\"1\" class=\"dataframe\">\n",
       "  <thead>\n",
       "    <tr style=\"text-align: right;\">\n",
       "      <th></th>\n",
       "      <th>player</th>\n",
       "      <th>dealer</th>\n",
       "      <th>decks_remaining</th>\n",
       "      <th>hiopt1</th>\n",
       "      <th>hilow</th>\n",
       "      <th>aces</th>\n",
       "      <th>action</th>\n",
       "      <th>payout</th>\n",
       "      <th>dealer_bust</th>\n",
       "      <th>hilow_true_prior</th>\n",
       "      <th>hilow_true</th>\n",
       "      <th>hilow_true_prior_int</th>\n",
       "    </tr>\n",
       "  </thead>\n",
       "  <tbody>\n",
       "    <tr>\n",
       "      <th>16</th>\n",
       "      <td>21</td>\n",
       "      <td>7</td>\n",
       "      <td>1.461538</td>\n",
       "      <td>3</td>\n",
       "      <td>3</td>\n",
       "      <td>-2</td>\n",
       "      <td>NaN</td>\n",
       "      <td>1.5</td>\n",
       "      <td>NaN</td>\n",
       "      <td>3.250000</td>\n",
       "      <td>2.052632</td>\n",
       "      <td>3</td>\n",
       "    </tr>\n",
       "    <tr>\n",
       "      <th>17</th>\n",
       "      <td>21</td>\n",
       "      <td>5</td>\n",
       "      <td>1.384615</td>\n",
       "      <td>4</td>\n",
       "      <td>3</td>\n",
       "      <td>-3</td>\n",
       "      <td>NaN</td>\n",
       "      <td>1.5</td>\n",
       "      <td>NaN</td>\n",
       "      <td>2.736842</td>\n",
       "      <td>2.166667</td>\n",
       "      <td>3</td>\n",
       "    </tr>\n",
       "    <tr>\n",
       "      <th>20</th>\n",
       "      <td>8</td>\n",
       "      <td>T</td>\n",
       "      <td>1.096154</td>\n",
       "      <td>8</td>\n",
       "      <td>7</td>\n",
       "      <td>-4</td>\n",
       "      <td>NaN</td>\n",
       "      <td>-1.0</td>\n",
       "      <td>NaN</td>\n",
       "      <td>5.114754</td>\n",
       "      <td>6.385965</td>\n",
       "      <td>5</td>\n",
       "    </tr>\n",
       "    <tr>\n",
       "      <th>24</th>\n",
       "      <td>18</td>\n",
       "      <td>A</td>\n",
       "      <td>0.730769</td>\n",
       "      <td>1</td>\n",
       "      <td>-1</td>\n",
       "      <td>-6</td>\n",
       "      <td>NaN</td>\n",
       "      <td>-1.0</td>\n",
       "      <td>NaN</td>\n",
       "      <td>1.238095</td>\n",
       "      <td>-1.368421</td>\n",
       "      <td>1</td>\n",
       "    </tr>\n",
       "    <tr>\n",
       "      <th>30</th>\n",
       "      <td>8</td>\n",
       "      <td>A</td>\n",
       "      <td>1.403846</td>\n",
       "      <td>2</td>\n",
       "      <td>3</td>\n",
       "      <td>-1</td>\n",
       "      <td>NaN</td>\n",
       "      <td>-1.0</td>\n",
       "      <td>NaN</td>\n",
       "      <td>1.350649</td>\n",
       "      <td>2.136986</td>\n",
       "      <td>1</td>\n",
       "    </tr>\n",
       "    <tr>\n",
       "      <th>...</th>\n",
       "      <td>...</td>\n",
       "      <td>...</td>\n",
       "      <td>...</td>\n",
       "      <td>...</td>\n",
       "      <td>...</td>\n",
       "      <td>...</td>\n",
       "      <td>...</td>\n",
       "      <td>...</td>\n",
       "      <td>...</td>\n",
       "      <td>...</td>\n",
       "      <td>...</td>\n",
       "      <td>...</td>\n",
       "    </tr>\n",
       "    <tr>\n",
       "      <th>9999953</th>\n",
       "      <td>15</td>\n",
       "      <td>A</td>\n",
       "      <td>1.596154</td>\n",
       "      <td>4</td>\n",
       "      <td>4</td>\n",
       "      <td>-3</td>\n",
       "      <td>NaN</td>\n",
       "      <td>-1.0</td>\n",
       "      <td>NaN</td>\n",
       "      <td>2.988506</td>\n",
       "      <td>2.506024</td>\n",
       "      <td>3</td>\n",
       "    </tr>\n",
       "    <tr>\n",
       "      <th>9999956</th>\n",
       "      <td>66</td>\n",
       "      <td>A</td>\n",
       "      <td>1.326923</td>\n",
       "      <td>7</td>\n",
       "      <td>6</td>\n",
       "      <td>-4</td>\n",
       "      <td>NaN</td>\n",
       "      <td>-1.0</td>\n",
       "      <td>NaN</td>\n",
       "      <td>3.561644</td>\n",
       "      <td>4.521739</td>\n",
       "      <td>4</td>\n",
       "    </tr>\n",
       "    <tr>\n",
       "      <th>9999957</th>\n",
       "      <td>19</td>\n",
       "      <td>T</td>\n",
       "      <td>1.250000</td>\n",
       "      <td>4</td>\n",
       "      <td>3</td>\n",
       "      <td>-4</td>\n",
       "      <td>NaN</td>\n",
       "      <td>-1.0</td>\n",
       "      <td>NaN</td>\n",
       "      <td>3.768116</td>\n",
       "      <td>2.400000</td>\n",
       "      <td>4</td>\n",
       "    </tr>\n",
       "    <tr>\n",
       "      <th>9999960</th>\n",
       "      <td>21</td>\n",
       "      <td>4</td>\n",
       "      <td>0.961538</td>\n",
       "      <td>2</td>\n",
       "      <td>0</td>\n",
       "      <td>-6</td>\n",
       "      <td>NaN</td>\n",
       "      <td>1.5</td>\n",
       "      <td>NaN</td>\n",
       "      <td>0.962963</td>\n",
       "      <td>0.000000</td>\n",
       "      <td>1</td>\n",
       "    </tr>\n",
       "    <tr>\n",
       "      <th>9999996</th>\n",
       "      <td>21</td>\n",
       "      <td>2</td>\n",
       "      <td>0.903846</td>\n",
       "      <td>1</td>\n",
       "      <td>3</td>\n",
       "      <td>-3</td>\n",
       "      <td>NaN</td>\n",
       "      <td>1.5</td>\n",
       "      <td>NaN</td>\n",
       "      <td>4.078431</td>\n",
       "      <td>3.319149</td>\n",
       "      <td>4</td>\n",
       "    </tr>\n",
       "  </tbody>\n",
       "</table>\n",
       "<p>932663 rows × 12 columns</p>\n",
       "</div>"
      ],
      "text/plain": [
       "        player dealer  decks_remaining  hiopt1  hilow  aces action  payout  \\\n",
       "16          21      7         1.461538       3      3    -2    NaN     1.5   \n",
       "17          21      5         1.384615       4      3    -3    NaN     1.5   \n",
       "20           8      T         1.096154       8      7    -4    NaN    -1.0   \n",
       "24          18      A         0.730769       1     -1    -6    NaN    -1.0   \n",
       "30           8      A         1.403846       2      3    -1    NaN    -1.0   \n",
       "...        ...    ...              ...     ...    ...   ...    ...     ...   \n",
       "9999953     15      A         1.596154       4      4    -3    NaN    -1.0   \n",
       "9999956     66      A         1.326923       7      6    -4    NaN    -1.0   \n",
       "9999957     19      T         1.250000       4      3    -4    NaN    -1.0   \n",
       "9999960     21      4         0.961538       2      0    -6    NaN     1.5   \n",
       "9999996     21      2         0.903846       1      3    -3    NaN     1.5   \n",
       "\n",
       "        dealer_bust  hilow_true_prior  hilow_true  hilow_true_prior_int  \n",
       "16              NaN          3.250000    2.052632                     3  \n",
       "17              NaN          2.736842    2.166667                     3  \n",
       "20              NaN          5.114754    6.385965                     5  \n",
       "24              NaN          1.238095   -1.368421                     1  \n",
       "30              NaN          1.350649    2.136986                     1  \n",
       "...             ...               ...         ...                   ...  \n",
       "9999953         NaN          2.988506    2.506024                     3  \n",
       "9999956         NaN          3.561644    4.521739                     4  \n",
       "9999957         NaN          3.768116    2.400000                     4  \n",
       "9999960         NaN          0.962963    0.000000                     1  \n",
       "9999996         NaN          4.078431    3.319149                     4  \n",
       "\n",
       "[932663 rows x 12 columns]"
      ]
     },
     "execution_count": 46,
     "metadata": {},
     "output_type": "execute_result"
    }
   ],
   "source": [
    "df.loc[df['dealer_bust'].isna()]"
   ]
  },
  {
   "cell_type": "code",
   "execution_count": null,
   "id": "30fcd511-0efd-4f61-9c2d-be9e5d3d6c8b",
   "metadata": {},
   "outputs": [],
   "source": []
  },
  {
   "cell_type": "code",
   "execution_count": 62,
   "id": "87a04aed-8c7c-4e0e-b4ac-bd80d1848818",
   "metadata": {},
   "outputs": [
    {
     "data": {
      "text/plain": [
       "array([0.26598286673931487, 0.00027848214191723424], dtype=object)"
      ]
     },
     "execution_count": 62,
     "metadata": {},
     "output_type": "execute_result"
    }
   ],
   "source": [
    "r.params"
   ]
  },
  {
   "cell_type": "code",
   "execution_count": 68,
   "id": "435c8355-fa7d-453a-a936-fb744c2f0172",
   "metadata": {},
   "outputs": [
    {
     "name": "stdout",
     "output_type": "stream",
     "text": [
      "         const  hilow_true_prior\n",
      "14         1.0         -0.559140\n",
      "18         1.0          1.444444\n",
      "19         1.0          3.104478\n",
      "39         1.0          0.000000\n",
      "43         1.0          1.333333\n",
      "...        ...               ...\n",
      "9999984    1.0          6.618182\n",
      "9999989    1.0          1.733333\n",
      "9999992    1.0          1.405405\n",
      "9999995    1.0          3.714286\n",
      "9999997    1.0          3.319149\n",
      "\n",
      "[1464232 rows x 2 columns]\n",
      "14         0.0\n",
      "18         0.0\n",
      "19         0.0\n",
      "39         0.0\n",
      "43         1.0\n",
      "          ... \n",
      "9999984    1.0\n",
      "9999989    1.0\n",
      "9999992    0.0\n",
      "9999995    0.0\n",
      "9999997    0.0\n",
      "Name: dealer_bust, Length: 1464232, dtype: float64\n"
     ]
    },
    {
     "name": "stderr",
     "output_type": "stream",
     "text": [
      "<ipython-input-68-cfd8bb2c0d71>:2: SettingWithCopyWarning: \n",
      "A value is trying to be set on a copy of a slice from a DataFrame.\n",
      "Try using .loc[row_indexer,col_indexer] = value instead\n",
      "\n",
      "See the caveats in the documentation: https://pandas.pydata.org/pandas-docs/stable/user_guide/indexing.html#returning-a-view-versus-a-copy\n",
      "  g['dealer_bust'] = (g['dealer_bust'] * 1.).astype(float)\n"
     ]
    },
    {
     "data": {
      "text/plain": [
       "array([0.43362936, 0.00739136])"
      ]
     },
     "execution_count": 68,
     "metadata": {},
     "output_type": "execute_result"
    }
   ],
   "source": [
    "g = df.loc[~df['dealer_bust'].isna() & df['dealer'].isin(['5', '6'])]\n",
    "g['dealer_bust'] = (g['dealer_bust'] * 1.).astype(float)\n",
    "X = sm.add_constant(g['hilow_true_prior'])\n",
    "print(X)\n",
    "Y = g['dealer_bust']\n",
    "print(Y)\n",
    "r = sm.OLS(Y.values, X.values).fit()\n",
    "r.params\n",
    "# g['dealer_bust'].sum()/g['dealer_bust'].count()"
   ]
  },
  {
   "cell_type": "code",
   "execution_count": 70,
   "id": "3a4519f6-cde4-440e-86fe-d9ce09fed6c2",
   "metadata": {},
   "outputs": [
    {
     "data": {
      "text/plain": [
       "hilow_true_prior_int\n",
       "-23    1.000000\n",
       "-22    0.250000\n",
       "-21    0.285714\n",
       "-20    0.333333\n",
       "-19    0.400000\n",
       "-18    0.304878\n",
       "-17    0.267045\n",
       "-16    0.320132\n",
       "-15    0.329044\n",
       "-14    0.375139\n",
       "-13    0.369393\n",
       "-12    0.359506\n",
       "-11    0.357032\n",
       "-10    0.366702\n",
       "-9     0.376835\n",
       "-8     0.376455\n",
       "-7     0.389022\n",
       "-6     0.393987\n",
       "-5     0.402184\n",
       "-4     0.404739\n",
       "-3     0.407631\n",
       "-2     0.417936\n",
       "-1     0.424094\n",
       " 0     0.432461\n",
       " 1     0.438852\n",
       " 2     0.450032\n",
       " 3     0.457094\n",
       " 4     0.463935\n",
       " 5     0.468862\n",
       " 6     0.487830\n",
       " 7     0.493610\n",
       " 8     0.501542\n",
       " 9     0.518466\n",
       " 10    0.517501\n",
       " 11    0.536000\n",
       " 12    0.529014\n",
       " 13    0.544944\n",
       " 14    0.592798\n",
       " 15    0.552239\n",
       " 16    0.529412\n",
       " 17    0.627907\n",
       " 18    0.454545\n",
       " 19    0.500000\n",
       " 20    1.000000\n",
       " 21    0.000000\n",
       " 22    0.000000\n",
       "Name: dealer_bust, dtype: float64"
      ]
     },
     "execution_count": 70,
     "metadata": {},
     "output_type": "execute_result"
    }
   ],
   "source": [
    "g.groupby(['hilow_true_prior_int'])['dealer_bust'].mean()"
   ]
  },
  {
   "cell_type": "code",
   "execution_count": null,
   "id": "9468fbf0-c59b-4424-9f4e-06f5d04ba015",
   "metadata": {},
   "outputs": [],
   "source": []
  },
  {
   "cell_type": "code",
   "execution_count": 13,
   "id": "844cd776-502a-49b7-8319-7818bfbab042",
   "metadata": {},
   "outputs": [
    {
     "data": {
      "text/plain": [
       "<AxesSubplot:>"
      ]
     },
     "execution_count": 13,
     "metadata": {},
     "output_type": "execute_result"
    },
    {
     "data": {
      "image/png": "[encoded data removed]",
      "text/plain": [
       "<Figure size 432x288 with 1 Axes>"
      ]
     },
     "metadata": {
      "needs_background": "light"
     },
     "output_type": "display_data"
    }
   ],
   "source": [
    "df.sort_values('hilow_true_prior_int')['payout'].cumsum().reset_index(drop=True).plot()"
   ]
  },
  {
   "cell_type": "code",
   "execution_count": 2,
   "id": "f37bca12-193c-45f9-b50a-290369ea0298",
   "metadata": {},
   "outputs": [
    {
     "ename": "AttributeError",
     "evalue": "'list' object has no attribute 'groupby'",
     "output_type": "error",
     "traceback": [
      "\u001b[0;31m---------------------------------------------------------------------------\u001b[0m",
      "\u001b[0;31mAttributeError\u001b[0m                            Traceback (most recent call last)",
      "\u001b[0;32m<ipython-input-2-38c539d731a5>\u001b[0m in \u001b[0;36m<module>\u001b[0;34m\u001b[0m\n\u001b[0;32m----> 1\u001b[0;31m \u001b[0mplt\u001b[0m\u001b[0;34m.\u001b[0m\u001b[0mplot\u001b[0m\u001b[0;34m(\u001b[0m\u001b[0mdf\u001b[0m\u001b[0;34m.\u001b[0m\u001b[0mgroupby\u001b[0m\u001b[0;34m(\u001b[0m\u001b[0;34m'hilow_true_prior_int'\u001b[0m\u001b[0;34m)\u001b[0m\u001b[0;34m[\u001b[0m\u001b[0;34m[\u001b[0m\u001b[0;34m'payout'\u001b[0m\u001b[0;34m]\u001b[0m\u001b[0;34m]\u001b[0m\u001b[0;34m.\u001b[0m\u001b[0mcount\u001b[0m\u001b[0;34m(\u001b[0m\u001b[0;34m)\u001b[0m\u001b[0;34m/\u001b[0m\u001b[0mlen\u001b[0m\u001b[0;34m(\u001b[0m\u001b[0mdf\u001b[0m\u001b[0;34m)\u001b[0m\u001b[0;34m)\u001b[0m\u001b[0;34m\u001b[0m\u001b[0;34m\u001b[0m\u001b[0m\n\u001b[0m",
      "\u001b[0;31mAttributeError\u001b[0m: 'list' object has no attribute 'groupby'"
     ]
    }
   ],
   "source": [
    "plt.plot(df.groupby('hilow_true_prior_int')[['payout']].count()/len(df))"
   ]
  },
  {
   "cell_type": "code",
   "execution_count": 3,
   "id": "1bfe1648-5a4d-4e63-a046-98d9b0fbd3b2",
   "metadata": {},
   "outputs": [
    {
     "ename": "AttributeError",
     "evalue": "'list' object has no attribute 'groupby'",
     "output_type": "error",
     "traceback": [
      "\u001b[0;31m---------------------------------------------------------------------------\u001b[0m",
      "\u001b[0;31mAttributeError\u001b[0m                            Traceback (most recent call last)",
      "\u001b[0;32m<ipython-input-3-e687f676128c>\u001b[0m in \u001b[0;36m<module>\u001b[0;34m\u001b[0m\n\u001b[0;32m----> 1\u001b[0;31m \u001b[0mdf\u001b[0m\u001b[0;34m.\u001b[0m\u001b[0mgroupby\u001b[0m\u001b[0;34m(\u001b[0m\u001b[0;34m'hilow_true_prior_int'\u001b[0m\u001b[0;34m)\u001b[0m\u001b[0;34m[\u001b[0m\u001b[0;34m'payout'\u001b[0m\u001b[0;34m]\u001b[0m\u001b[0;34m.\u001b[0m\u001b[0mmean\u001b[0m\u001b[0;34m(\u001b[0m\u001b[0;34m)\u001b[0m\u001b[0;34m\u001b[0m\u001b[0;34m\u001b[0m\u001b[0m\n\u001b[0m",
      "\u001b[0;31mAttributeError\u001b[0m: 'list' object has no attribute 'groupby'"
     ]
    }
   ],
   "source": [
    "df.groupby('hilow_true_prior_int')['payout'].mean()"
   ]
  },
  {
   "cell_type": "code",
   "execution_count": 16,
   "id": "69237850-8b84-419f-aab5-ee25268d7d7f",
   "metadata": {},
   "outputs": [
    {
     "data": {
      "text/html": [
       "<table class=\"simpletable\">\n",
       "<caption>OLS Regression Results</caption>\n",
       "<tr>\n",
       "  <th>Dep. Variable:</th>         <td>payout</td>      <th>  R-squared:         </th>  <td>   0.000</td>  \n",
       "</tr>\n",
       "<tr>\n",
       "  <th>Model:</th>                   <td>OLS</td>       <th>  Adj. R-squared:    </th>  <td>   0.000</td>  \n",
       "</tr>\n",
       "<tr>\n",
       "  <th>Method:</th>             <td>Least Squares</td>  <th>  F-statistic:       </th>  <td>   3102.</td>  \n",
       "</tr>\n",
       "<tr>\n",
       "  <th>Date:</th>             <td>Sun, 02 Oct 2022</td> <th>  Prob (F-statistic):</th>   <td>  0.00</td>   \n",
       "</tr>\n",
       "<tr>\n",
       "  <th>Time:</th>                 <td>15:39:49</td>     <th>  Log-Likelihood:    </th> <td>-3.1353e+07</td>\n",
       "</tr>\n",
       "<tr>\n",
       "  <th>No. Observations:</th>     <td>20000031</td>     <th>  AIC:               </th>  <td>6.271e+07</td> \n",
       "</tr>\n",
       "<tr>\n",
       "  <th>Df Residuals:</th>         <td>20000029</td>     <th>  BIC:               </th>  <td>6.271e+07</td> \n",
       "</tr>\n",
       "<tr>\n",
       "  <th>Df Model:</th>              <td>     1</td>      <th>                     </th>      <td> </td>     \n",
       "</tr>\n",
       "<tr>\n",
       "  <th>Covariance Type:</th>      <td>nonrobust</td>    <th>                     </th>      <td> </td>     \n",
       "</tr>\n",
       "</table>\n",
       "<table class=\"simpletable\">\n",
       "<tr>\n",
       "          <td></td>            <th>coef</th>     <th>std err</th>      <th>t</th>      <th>P>|t|</th>  <th>[0.025</th>    <th>0.975]</th>  \n",
       "</tr>\n",
       "<tr>\n",
       "  <th>const</th>            <td>   -0.0189</td> <td>    0.000</td> <td>  -72.724</td> <td> 0.000</td> <td>   -0.019</td> <td>   -0.018</td>\n",
       "</tr>\n",
       "<tr>\n",
       "  <th>hilow_true_prior</th> <td>    0.0044</td> <td> 7.87e-05</td> <td>   55.691</td> <td> 0.000</td> <td>    0.004</td> <td>    0.005</td>\n",
       "</tr>\n",
       "</table>\n",
       "<table class=\"simpletable\">\n",
       "<tr>\n",
       "  <th>Omnibus:</th>       <td>4697988.271</td> <th>  Durbin-Watson:     </th>  <td>   1.058</td> \n",
       "</tr>\n",
       "<tr>\n",
       "  <th>Prob(Omnibus):</th>   <td> 0.000</td>    <th>  Jarque-Bera (JB):  </th> <td>917090.926</td>\n",
       "</tr>\n",
       "<tr>\n",
       "  <th>Skew:</th>            <td> 0.158</td>    <th>  Prob(JB):          </th>  <td>    0.00</td> \n",
       "</tr>\n",
       "<tr>\n",
       "  <th>Kurtosis:</th>        <td> 1.999</td>    <th>  Cond. No.          </th>  <td>    3.32</td> \n",
       "</tr>\n",
       "</table><br/><br/>Notes:<br/>[1] Standard Errors assume that the covariance matrix of the errors is correctly specified."
      ],
      "text/plain": [
       "<class 'statsmodels.iolib.summary.Summary'>\n",
       "\"\"\"\n",
       "                            OLS Regression Results                            \n",
       "==============================================================================\n",
       "Dep. Variable:                 payout   R-squared:                       0.000\n",
       "Model:                            OLS   Adj. R-squared:                  0.000\n",
       "Method:                 Least Squares   F-statistic:                     3102.\n",
       "Date:                Sun, 02 Oct 2022   Prob (F-statistic):               0.00\n",
       "Time:                        15:39:49   Log-Likelihood:            -3.1353e+07\n",
       "No. Observations:            20000031   AIC:                         6.271e+07\n",
       "Df Residuals:                20000029   BIC:                         6.271e+07\n",
       "Df Model:                           1                                         \n",
       "Covariance Type:            nonrobust                                         \n",
       "====================================================================================\n",
       "                       coef    std err          t      P>|t|      [0.025      0.975]\n",
       "------------------------------------------------------------------------------------\n",
       "const               -0.0189      0.000    -72.724      0.000      -0.019      -0.018\n",
       "hilow_true_prior     0.0044   7.87e-05     55.691      0.000       0.004       0.005\n",
       "==============================================================================\n",
       "Omnibus:                  4697988.271   Durbin-Watson:                   1.058\n",
       "Prob(Omnibus):                  0.000   Jarque-Bera (JB):           917090.926\n",
       "Skew:                           0.158   Prob(JB):                         0.00\n",
       "Kurtosis:                       1.999   Cond. No.                         3.32\n",
       "==============================================================================\n",
       "\n",
       "Notes:\n",
       "[1] Standard Errors assume that the covariance matrix of the errors is correctly specified.\n",
       "\"\"\""
      ]
     },
     "execution_count": 16,
     "metadata": {},
     "output_type": "execute_result"
    }
   ],
   "source": [
    "X = sm.add_constant(df['hilow_true_prior'])\n",
    "Y = df['payout']\n",
    "r = sm.OLS(Y, X).fit()\n",
    "r.summary()"
   ]
  },
  {
   "cell_type": "code",
   "execution_count": null,
   "id": "24aae566-9d4e-4480-871f-3b5fda072aa7",
   "metadata": {},
   "outputs": [],
   "source": []
  },
  {
   "cell_type": "code",
   "execution_count": 24,
   "id": "b28457c4-5483-4cde-91bb-a9d412383a5b",
   "metadata": {},
   "outputs": [
    {
     "data": {
      "text/plain": [
       "0.08788281378163863"
      ]
     },
     "execution_count": 24,
     "metadata": {},
     "output_type": "execute_result"
    }
   ],
   "source": [
    "df['push'].mean()"
   ]
  },
  {
   "cell_type": "code",
   "execution_count": 25,
   "id": "c0a196c9-0891-473b-a423-0008d8968085",
   "metadata": {},
   "outputs": [
    {
     "data": {
      "text/html": [
       "<table class=\"simpletable\">\n",
       "<caption>OLS Regression Results</caption>\n",
       "<tr>\n",
       "  <th>Dep. Variable:</th>          <td>push</td>       <th>  R-squared:         </th>  <td>   0.000</td>  \n",
       "</tr>\n",
       "<tr>\n",
       "  <th>Model:</th>                   <td>OLS</td>       <th>  Adj. R-squared:    </th>  <td>   0.000</td>  \n",
       "</tr>\n",
       "<tr>\n",
       "  <th>Method:</th>             <td>Least Squares</td>  <th>  F-statistic:       </th>  <td>   1970.</td>  \n",
       "</tr>\n",
       "<tr>\n",
       "  <th>Date:</th>             <td>Tue, 04 Oct 2022</td> <th>  Prob (F-statistic):</th>   <td>  0.00</td>   \n",
       "</tr>\n",
       "<tr>\n",
       "  <th>Time:</th>                 <td>18:23:52</td>     <th>  Log-Likelihood:    </th> <td>-3.1404e+06</td>\n",
       "</tr>\n",
       "<tr>\n",
       "  <th>No. Observations:</th>     <td>20000031</td>     <th>  AIC:               </th>  <td>6.281e+06</td> \n",
       "</tr>\n",
       "<tr>\n",
       "  <th>Df Residuals:</th>         <td>20000029</td>     <th>  BIC:               </th>  <td>6.281e+06</td> \n",
       "</tr>\n",
       "<tr>\n",
       "  <th>Df Model:</th>              <td>     1</td>      <th>                     </th>      <td> </td>     \n",
       "</tr>\n",
       "<tr>\n",
       "  <th>Covariance Type:</th>      <td>nonrobust</td>    <th>                     </th>      <td> </td>     \n",
       "</tr>\n",
       "</table>\n",
       "<table class=\"simpletable\">\n",
       "<tr>\n",
       "          <td></td>            <th>coef</th>     <th>std err</th>      <th>t</th>      <th>P>|t|</th>  <th>[0.025</th>    <th>0.975]</th>  \n",
       "</tr>\n",
       "<tr>\n",
       "  <th>const</th>            <td>    0.0881</td> <td> 6.35e-05</td> <td> 1387.954</td> <td> 0.000</td> <td>    0.088</td> <td>    0.088</td>\n",
       "</tr>\n",
       "<tr>\n",
       "  <th>hilow_true_prior</th> <td>    0.0009</td> <td> 1.92e-05</td> <td>   44.387</td> <td> 0.000</td> <td>    0.001</td> <td>    0.001</td>\n",
       "</tr>\n",
       "</table>\n",
       "<table class=\"simpletable\">\n",
       "<tr>\n",
       "  <th>Omnibus:</th>       <td>11384658.469</td> <th>  Durbin-Watson:     </th>   <td>   1.015</td>  \n",
       "</tr>\n",
       "<tr>\n",
       "  <th>Prob(Omnibus):</th>    <td> 0.000</td>    <th>  Jarque-Bera (JB):  </th> <td>63168043.045</td>\n",
       "</tr>\n",
       "<tr>\n",
       "  <th>Skew:</th>             <td> 2.911</td>    <th>  Prob(JB):          </th>   <td>    0.00</td>  \n",
       "</tr>\n",
       "<tr>\n",
       "  <th>Kurtosis:</th>         <td> 9.474</td>    <th>  Cond. No.          </th>   <td>    3.32</td>  \n",
       "</tr>\n",
       "</table><br/><br/>Notes:<br/>[1] Standard Errors assume that the covariance matrix of the errors is correctly specified."
      ],
      "text/plain": [
       "<class 'statsmodels.iolib.summary.Summary'>\n",
       "\"\"\"\n",
       "                            OLS Regression Results                            \n",
       "==============================================================================\n",
       "Dep. Variable:                   push   R-squared:                       0.000\n",
       "Model:                            OLS   Adj. R-squared:                  0.000\n",
       "Method:                 Least Squares   F-statistic:                     1970.\n",
       "Date:                Tue, 04 Oct 2022   Prob (F-statistic):               0.00\n",
       "Time:                        18:23:52   Log-Likelihood:            -3.1404e+06\n",
       "No. Observations:            20000031   AIC:                         6.281e+06\n",
       "Df Residuals:                20000029   BIC:                         6.281e+06\n",
       "Df Model:                           1                                         \n",
       "Covariance Type:            nonrobust                                         \n",
       "====================================================================================\n",
       "                       coef    std err          t      P>|t|      [0.025      0.975]\n",
       "------------------------------------------------------------------------------------\n",
       "const                0.0881   6.35e-05   1387.954      0.000       0.088       0.088\n",
       "hilow_true_prior     0.0009   1.92e-05     44.387      0.000       0.001       0.001\n",
       "==============================================================================\n",
       "Omnibus:                 11384658.469   Durbin-Watson:                   1.015\n",
       "Prob(Omnibus):                  0.000   Jarque-Bera (JB):         63168043.045\n",
       "Skew:                           2.911   Prob(JB):                         0.00\n",
       "Kurtosis:                       9.474   Cond. No.                         3.32\n",
       "==============================================================================\n",
       "\n",
       "Notes:\n",
       "[1] Standard Errors assume that the covariance matrix of the errors is correctly specified.\n",
       "\"\"\""
      ]
     },
     "execution_count": 25,
     "metadata": {},
     "output_type": "execute_result"
    }
   ],
   "source": [
    "X = sm.add_constant(df['hilow_true_prior'])\n",
    "Y = df['push']\n",
    "r = sm.OLS(Y, X).fit()\n",
    "r.summary()"
   ]
  },
  {
   "cell_type": "code",
   "execution_count": null,
   "id": "7856a29c-c819-4d7f-9d51-4ca4554551fd",
   "metadata": {},
   "outputs": [],
   "source": []
  },
  {
   "cell_type": "markdown",
   "id": "69ff7863-6ce1-497c-bd2d-bc39fc214da2",
   "metadata": {},
   "source": [
    "### Probability of 3-card 19"
   ]
  },
  {
   "cell_type": "code",
   "execution_count": 73,
   "id": "804778db-18be-43de-bc03-5f48a78b2785",
   "metadata": {},
   "outputs": [
    {
     "name": "stdout",
     "output_type": "stream",
     "text": [
      "0.0651895588235294 0.004661617647058824\n",
      "[(6, 's'), (4, 'h'), (8, 's'), (1, 'c'), (4, 's'), (7, 'h'), (10, 'c'), (10, 'c'), (7, 's'), (5, 'h'), (1, 'd'), (9, 'h'), (9, 'h'), (10, 'c'), (3, 'h'), (10, 'h'), (2, 'h'), (1, 's'), (10, 'd'), (1, 'd'), (10, 'h'), (8, 'c'), (5, 'd'), (3, 's'), (3, 'c'), (10, 'c'), (2, 'c'), (2, 's'), (8, 'h'), (10, 'd'), (6, 'h'), (2, 'h'), (10, 's'), (4, 's'), (2, 'd'), (7, 'd'), (3, 's'), (6, 'c'), (10, 'c'), (6, 'd'), (2, 'd'), (10, 'h'), (6, 'h'), (1, 'c'), (9, 's'), (4, 'c'), (10, 's'), (8, 'h'), (9, 's'), (9, 'c'), (10, 'd'), (10, 'd'), (10, 'h'), (5, 's'), (7, 'c'), (10, 'd'), (5, 'c'), (10, 'h'), (6, 'd'), (10, 'h'), (7, 's'), (10, 'd'), (10, 's'), (10, 'c'), (5, 'h'), (9, 'd'), (10, 's'), (4, 'h'), (3, 'h'), (10, 'd'), (8, 'd'), (2, 's'), (1, 's'), (6, 'c'), (4, 'c'), (10, 's'), (8, 'd'), (10, 'h'), (7, 'd'), (5, 'c'), (6, 's'), (7, 'c'), (4, 'd'), (8, 'c'), (10, 'd'), (10, 's'), (3, 'd'), (1, 'h'), (10, 'c'), (10, 's'), (9, 'c'), (3, 'c'), (10, 's'), (1, 'h'), (3, 'd'), (9, 'd'), (10, 'c'), (8, 's'), (7, 'h'), (10, 'h'), (4, 'd'), (5, 's'), (2, 'c'), (5, 'd')]\n"
     ]
    }
   ],
   "source": [
    "import random\n",
    "\n",
    "num_decks = 2\n",
    "penetration = 1.25\n",
    "shoes_simulated = 100000\n",
    "\n",
    "\n",
    "rank = list(range(1, 10)) + 4*[10]\n",
    "suit = 'shdc'\n",
    "cut_card = (num_decks - penetration) * 52\n",
    "\n",
    "_hands = 0\n",
    "_19 = 0\n",
    "_s21 = 0\n",
    "\n",
    "for i in range(shoes_simulated):\n",
    "    deck = [(r, s) for s in suit for r in rank] * num_decks\n",
    "    random.shuffle(deck)\n",
    "    hands = [deck[i:i+3] for i in range(0, int(penetration*52) + 3)]\n",
    "    _hands += len(cards)\n",
    "    _19 += sum(sum(c[0] for c in h)==19 for h in hands)\n",
    "    _s21 += sum(sum(c[0] for c in h)==21 and len(set(c[1] for c in h))==1 for h in hands)\n",
    "\n",
    "print(_19/_hands, _s21/_hands)\n",
    "        \n",
    "print(deck)"
   ]
  },
  {
   "cell_type": "code",
   "execution_count": null,
   "id": "a534763f-4b11-4d4d-9f18-512a6c3c4cde",
   "metadata": {},
   "outputs": [],
   "source": []
  }
 ],
 "metadata": {
  "kernelspec": {
   "display_name": "Python 3",
   "language": "python",
   "name": "python3"
  },
  "language_info": {
   "codemirror_mode": {
    "name": "ipython",
    "version": 3
   },
   "file_extension": ".py",
   "mimetype": "text/x-python",
   "name": "python",
   "nbconvert_exporter": "python",
   "pygments_lexer": "ipython3",
   "version": "3.8.8"
  }
 },
 "nbformat": 4,
 "nbformat_minor": 5
}
